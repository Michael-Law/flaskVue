{
 "cells": [
  {
   "cell_type": "code",
   "execution_count": 2,
   "metadata": {},
   "outputs": [],
   "source": [
    "from flask import Flask, jsonify\n",
    "from flask_cors import CORS\n",
    "import pandas as pd\n",
    "from sqlalchemy import create_engine\n",
    "import cx_Oracle\n",
    "import numpy as np\n",
    "import pandas as pd\n",
    "import json\n",
    "import jsonpickle\n",
    "import datetime"
   ]
  },
  {
   "cell_type": "code",
   "execution_count": 3,
   "metadata": {},
   "outputs": [],
   "source": [
    "oracle_connection_string = 'oracle+cx_oracle://{username}:{password}@{hostname}:{port}/{database}'\n"
   ]
  },
  {
   "cell_type": "code",
   "execution_count": 4,
   "metadata": {},
   "outputs": [],
   "source": [
    "engine = create_engine(\n",
    "    oracle_connection_string.format(\n",
    "        username='woolodbc',\n",
    "        password='ferney77',\n",
    "        hostname='192.168.1.219',\n",
    "        port='1535',\n",
    "        database='SPWDB',\n",
    "    )\n",
    ")"
   ]
  },
  {
   "cell_type": "code",
   "execution_count": 5,
   "metadata": {
    "tags": []
   },
   "outputs": [],
   "source": [
    "data = pd.read_sql(\"SELECT batch_no,mach_no,sh_desc,date_start,std_hrs,qty_dye FROM dye.v_dye_scheduling\", engine)\n"
   ]
  },
  {
   "cell_type": "code",
   "execution_count": 25,
   "metadata": {},
   "outputs": [],
   "source": [
    "class Object:\n",
    "    def toJSON(self):\n",
    "        return json.dumps(self, default=lambda o: o.__dict__, \n",
    "            sort_keys=True, indent=4)\n",
    "\n",
    "batch = Object()\n",
    "batch = data.to_dict('records')\n",
    "for num,items in enumerate(batch):\n",
    "    batch[num].update(dye_id = num+1)\n",
    "    batch[num]['date_start'] = (batch[num]['date_start'] - datetime.datetime(1970,1,1)).total_seconds()\n",
    "    \n",
    "    # batch[num].update(start=datetime.datetime.strptime(batch[num]['date_start'], '%Y-%m-%d %H:%M').timestamp())\n"
   ]
  },
  {
   "cell_type": "code",
   "execution_count": 26,
   "metadata": {
    "tags": []
   },
   "outputs": [
    {
     "output_type": "stream",
     "name": "stdout",
     "text": "[{'batch_no': '356087  ', 'mach_no': '7016', 'sh_desc': 'Black POLY CAS         ASH003 ', 'date_start': 1599306300.0, 'std_hrs': 6.9, 'qty_dye': 8.0, 'dye_id': 1}, {'batch_no': '248221  ', 'mach_no': '7020', 'sh_desc': '2520 Shingle            18    ', 'date_start': 1599084600.0, 'std_hrs': 5.25, 'qty_dye': 1.0, 'dye_id': 2}, {'batch_no': '248225  ', 'mach_no': '7020', 'sh_desc': '2376 Grey               18    ', 'date_start': 1599103800.0, 'std_hrs': 5.25, 'qty_dye': 1.0, 'dye_id': 3}, {'batch_no': '123705  ', 'mach_no': '7025', 'sh_desc': 'Silver Grey TT3 CAD    Anew   ', 'date_start': 1567409640.0, 'std_hrs': 7.0, 'qty_dye': 50.0, 'dye_id': 4}, {'batch_no': '361154  ', 'mach_no': '7036', 'sh_desc': 'Black                         ', 'date_start': 1597697340.0, 'std_hrs': 5.5, 'qty_dye': 20.0, 'dye_id': 5}, {'batch_no': '365859  ', 'mach_no': '7017', 'sh_desc': 'Black                         ', 'date_start': 1599264600.0, 'std_hrs': 5.5, 'qty_dye': 31.0, 'dye_id': 6}, {'batch_no': '367482  ', 'mach_no': '7018', 'sh_desc': 'BLACK                    SH003', 'date_start': 1599087600.0, 'std_hrs': 5.5, 'qty_dye': 46.0, 'dye_id': 7}, {'batch_no': '369657  ', 'mach_no': '7017', 'sh_desc': 'Black                         ', 'date_start': 1599285300.0, 'std_hrs': 5.5, 'qty_dye': 30.0, 'dye_id': 8}, {'batch_no': '370007  ', 'mach_no': '7015', 'sh_desc': 'Black                         ', 'date_start': 1599158700.0, 'std_hrs': 5.5, 'qty_dye': 125.0, 'dye_id': 9}, {'batch_no': '370095  ', 'mach_no': '7002', 'sh_desc': 'BOTTLE                        ', 'date_start': 1599206400.0, 'std_hrs': 5.5, 'qty_dye': 25.0, 'dye_id': 10}, {'batch_no': '370069  ', 'mach_no': '7017', 'sh_desc': 'Black                         ', 'date_start': 1599202800.0, 'std_hrs': 5.5, 'qty_dye': 32.0, 'dye_id': 11}, {'batch_no': '370016  ', 'mach_no': '7017', 'sh_desc': 'Dark Camel                    ', 'date_start': 1599244200.0, 'std_hrs': 5.42, 'qty_dye': 28.0, 'dye_id': 12}, {'batch_no': '370043  ', 'mach_no': '7016', 'sh_desc': 'Midnight               ANEW   ', 'date_start': 1599202800.0, 'std_hrs': 5.5, 'qty_dye': 5.0, 'dye_id': 13}, {'batch_no': '370052  ', 'mach_no': '7009', 'sh_desc': 'BOTTLE                        ', 'date_start': 1599197400.0, 'std_hrs': 5.5, 'qty_dye': 94.0, 'dye_id': 14}, {'batch_no': '370057  ', 'mach_no': '7012', 'sh_desc': 'Slate Grey             ANEW   ', 'date_start': 1599192000.0, 'std_hrs': 2.75, 'qty_dye': 3.0, 'dye_id': 15}, {'batch_no': '369991  ', 'mach_no': '7004', 'sh_desc': '3956 Ochre     GardinerANEW   ', 'date_start': 1598974200.0, 'std_hrs': 5.42, 'qty_dye': 150.0, 'dye_id': 16}, {'batch_no': '369998  ', 'mach_no': '7004', 'sh_desc': '4183 Scarlet GDNER      09    ', 'date_start': 1598994300.0, 'std_hrs': 5.5, 'qty_dye': 150.0, 'dye_id': 17}, {'batch_no': '370003  ', 'mach_no': '7017', 'sh_desc': '4183 Scarlet GDNER            ', 'date_start': 1599223500.0, 'std_hrs': 5.5, 'qty_dye': 26.0, 'dye_id': 18}, {'batch_no': '370083  ', 'mach_no': '7037', 'sh_desc': 'Burgundy 61846B         20    ', 'date_start': 1599202800.0, 'std_hrs': 5.5, 'qty_dye': 4.0, 'dye_id': 19}, {'batch_no': '370084  ', 'mach_no': '7037', 'sh_desc': 'Burgundy 61846B         20    ', 'date_start': 1599223200.0, 'std_hrs': 5.5, 'qty_dye': 4.0, 'dye_id': 20}, {'batch_no': '370088  ', 'mach_no': '7016', 'sh_desc': 'BERRY 47073D                  ', 'date_start': 1599264900.0, 'std_hrs': 5.5, 'qty_dye': 4.0, 'dye_id': 21}, {'batch_no': '370092  ', 'mach_no': '7016', 'sh_desc': 'RAISIN 47369B                 ', 'date_start': 1599285600.0, 'std_hrs': 5.5, 'qty_dye': 4.0, 'dye_id': 22}, {'batch_no': '370093  ', 'mach_no': '7016', 'sh_desc': 'RAISIN 47369B                 ', 'date_start': 1599223500.0, 'std_hrs': 5.5, 'qty_dye': 7.0, 'dye_id': 23}, {'batch_no': '370094  ', 'mach_no': '7016', 'sh_desc': 'RAISIN 47369B                 ', 'date_start': 1599244200.0, 'std_hrs': 5.5, 'qty_dye': 4.0, 'dye_id': 24}, {'batch_no': '370100  ', 'mach_no': '7015', 'sh_desc': 'Black                         ', 'date_start': 1599138000.0, 'std_hrs': 5.5, 'qty_dye': 101.0, 'dye_id': 25}, {'batch_no': '370111  ', 'mach_no': '7002', 'sh_desc': 'AKAROA 2168                   ', 'date_start': 1599226800.0, 'std_hrs': 5.42, 'qty_dye': 10.0, 'dye_id': 26}]\n"
    }
   ],
   "source": [
    "print(batch)"
   ]
  },
  {
   "cell_type": "code",
   "execution_count": null,
   "metadata": {},
   "outputs": [],
   "source": []
  }
 ],
 "metadata": {
  "language_info": {
   "codemirror_mode": {
    "name": "ipython",
    "version": 3
   },
   "file_extension": ".py",
   "mimetype": "text/x-python",
   "name": "python",
   "nbconvert_exporter": "python",
   "pygments_lexer": "ipython3",
   "version": "3.7.4-final"
  },
  "orig_nbformat": 2,
  "kernelspec": {
   "name": "python_defaultSpec_1599194065344",
   "display_name": "Python 3.7.4 64-bit ('venv': venv)"
  }
 },
 "nbformat": 4,
 "nbformat_minor": 2
}